{
 "cells": [
  {
   "cell_type": "code",
   "execution_count": 3,
   "id": "f8f2268a-9885-4465-b5fe-218a2ea22d99",
   "metadata": {},
   "outputs": [],
   "source": [
    "#from utils.finance_tools import present_value # or\n",
    "import importlib\n",
    "import utils.finance_tools"
   ]
  },
  {
   "cell_type": "code",
   "execution_count": 5,
   "id": "058f7ed9-50d9-439c-8de2-db4e00fbfb32",
   "metadata": {},
   "outputs": [
    {
     "name": "stdout",
     "output_type": "stream",
     "text": [
      "File changed\n"
     ]
    },
    {
     "data": {
      "text/plain": [
       "<module 'utils.finance_tools' from '/home/rupam/Rupam_pcloud/Quantitative Finance/Quant_researcher_Job/Strategic_prep/12-months plan (part time)/Phase-I_Foundation/Python projects/micro-project-01-tvm-calculator/utils/finance_tools.py'>"
      ]
     },
     "execution_count": 5,
     "metadata": {},
     "output_type": "execute_result"
    }
   ],
   "source": [
    "importlib.reload(utils.finance_tools)"
   ]
  },
  {
   "cell_type": "code",
   "execution_count": 7,
   "id": "0d759771-7e7c-424a-9be0-e9d4330baf05",
   "metadata": {},
   "outputs": [
    {
     "data": {
      "text/plain": [
       "27"
      ]
     },
     "execution_count": 7,
     "metadata": {},
     "output_type": "execute_result"
    }
   ],
   "source": [
    "utils.finance_tools.future_value(1,2,3)"
   ]
  },
  {
   "cell_type": "code",
   "execution_count": null,
   "id": "8ea912e7-8579-44d3-9e2b-af8a00700613",
   "metadata": {},
   "outputs": [],
   "source": []
  }
 ],
 "metadata": {
  "kernelspec": {
   "display_name": "Python 3 (ipykernel)",
   "language": "python",
   "name": "python3"
  },
  "language_info": {
   "codemirror_mode": {
    "name": "ipython",
    "version": 3
   },
   "file_extension": ".py",
   "mimetype": "text/x-python",
   "name": "python",
   "nbconvert_exporter": "python",
   "pygments_lexer": "ipython3",
   "version": "3.12.7"
  }
 },
 "nbformat": 4,
 "nbformat_minor": 5
}
