{
 "cells": [
  {
   "cell_type": "code",
   "execution_count": 1,
   "id": "2ae719bf-abff-4b14-9c4b-c662f0f102aa",
   "metadata": {},
   "outputs": [],
   "source": [
    "import sys\n",
    "import os\n",
    "\n",
    "finmodule_path=\"/home/rupam/Rupam_pcloud/Quantitative Finance/Quant_researcher_Job/Strategic_prep/12-months plan (part time)/Python_projects/QR-prep\"\n",
    "\n",
    "sys.path.append(os.path.abspath(finmodule_path))"
   ]
  },
  {
   "cell_type": "code",
   "execution_count": 2,
   "id": "58b1ec71-6355-45d2-b4f2-59f040fce163",
   "metadata": {},
   "outputs": [
    {
     "name": "stdout",
     "output_type": "stream",
     "text": [
      "Fin_tool loaded !\n"
     ]
    }
   ],
   "source": [
    "import numpy as np\n",
    "import importlib\n",
    "import utils.finance_tools as ft\n",
    "import matplotlib.pyplot as plt\n",
    "import random"
   ]
  },
  {
   "cell_type": "code",
   "execution_count": 3,
   "id": "62a36e7c-e50d-4c25-8d0b-44bc67cce48f",
   "metadata": {},
   "outputs": [
    {
     "name": "stdout",
     "output_type": "stream",
     "text": [
      "Fin_tool loaded !\n"
     ]
    },
    {
     "data": {
      "text/plain": [
       "<module 'utils.finance_tools' from '/home/rupam/Rupam_pcloud/Quantitative Finance/Quant_researcher_Job/Strategic_prep/12-months plan (part time)/Python_projects/QR-prep/utils/finance_tools.py'>"
      ]
     },
     "execution_count": 3,
     "metadata": {},
     "output_type": "execute_result"
    }
   ],
   "source": [
    "importlib.reload(ft)"
   ]
  },
  {
   "cell_type": "code",
   "execution_count": null,
   "id": "f88c4021-ba40-4156-ad13-ef7b00c5d030",
   "metadata": {},
   "outputs": [],
   "source": []
  }
 ],
 "metadata": {
  "kernelspec": {
   "display_name": "Python 3 (ipykernel)",
   "language": "python",
   "name": "python3"
  },
  "language_info": {
   "codemirror_mode": {
    "name": "ipython",
    "version": 3
   },
   "file_extension": ".py",
   "mimetype": "text/x-python",
   "name": "python",
   "nbconvert_exporter": "python",
   "pygments_lexer": "ipython3",
   "version": "3.12.7"
  }
 },
 "nbformat": 4,
 "nbformat_minor": 5
}
