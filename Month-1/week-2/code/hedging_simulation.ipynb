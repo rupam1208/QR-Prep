{
 "cells": [
  {
   "cell_type": "code",
   "execution_count": 7,
   "id": "75931d51-a7f5-4b58-af3d-8922a329adba",
   "metadata": {},
   "outputs": [],
   "source": [
    "#from utils.finance_tools import present_value \n",
    "import numpy as np\n",
    "import importlib\n",
    "import utils.finance_tools as ft\n",
    "import matplotlib.pyplot as plt\n",
    "import random"
   ]
  },
  {
   "cell_type": "code",
   "execution_count": 9,
   "id": "f95f9fc9-ab0f-4044-a3e5-37e2a97323ca",
   "metadata": {},
   "outputs": [
    {
     "name": "stdout",
     "output_type": "stream",
     "text": [
      "Fin_tool loaded !\n"
     ]
    },
    {
     "data": {
      "text/plain": [
       "<module 'utils.finance_tools' from '/home/rupam/Rupam_pcloud/Quantitative Finance/Quant_researcher_Job/Strategic_prep/12-months plan (part time)/Phase-I_Foundations/Python projects/micro-project-02-hedging/utils/finance_tools.py'>"
      ]
     },
     "execution_count": 9,
     "metadata": {},
     "output_type": "execute_result"
    }
   ],
   "source": [
    "importlib.reload(ft)"
   ]
  },
  {
   "cell_type": "code",
   "execution_count": null,
   "id": "d4a6dc00-1ee7-4a01-a3ae-1a1b1e8ba080",
   "metadata": {},
   "outputs": [],
   "source": []
  }
 ],
 "metadata": {
  "kernelspec": {
   "display_name": "Python 3 (ipykernel)",
   "language": "python",
   "name": "python3"
  },
  "language_info": {
   "codemirror_mode": {
    "name": "ipython",
    "version": 3
   },
   "file_extension": ".py",
   "mimetype": "text/x-python",
   "name": "python",
   "nbconvert_exporter": "python",
   "pygments_lexer": "ipython3",
   "version": "3.12.7"
  }
 },
 "nbformat": 4,
 "nbformat_minor": 5
}
