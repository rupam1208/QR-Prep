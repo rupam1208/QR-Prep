{
 "cells": [
  {
   "cell_type": "code",
   "execution_count": 1,
   "id": "f8f2268a-9885-4465-b5fe-218a2ea22d99",
   "metadata": {},
   "outputs": [
    {
     "name": "stdout",
     "output_type": "stream",
     "text": [
      "Warning ! : Define the functions first \n"
     ]
    },
    {
     "ename": "ImportError",
     "evalue": "cannot import name 'present_value' from 'utils.finance_tools' (/home/rupam/Rupam_pcloud/Quantitative Finance/Quant_researcher_Job/Strategic_prep/12-months plan (part time)/Phase-I_Foundation/Python projects/micro-project-01-tvm-calculator/utils/finance_tools.py)",
     "output_type": "error",
     "traceback": [
      "\u001b[0;31m---------------------------------------------------------------------------\u001b[0m",
      "\u001b[0;31mImportError\u001b[0m                               Traceback (most recent call last)",
      "Cell \u001b[0;32mIn[1], line 1\u001b[0m\n\u001b[0;32m----> 1\u001b[0m \u001b[38;5;28;01mfrom\u001b[39;00m \u001b[38;5;21;01mutils\u001b[39;00m\u001b[38;5;21;01m.\u001b[39;00m\u001b[38;5;21;01mfinance_tools\u001b[39;00m \u001b[38;5;28;01mimport\u001b[39;00m present_value\n",
      "\u001b[0;31mImportError\u001b[0m: cannot import name 'present_value' from 'utils.finance_tools' (/home/rupam/Rupam_pcloud/Quantitative Finance/Quant_researcher_Job/Strategic_prep/12-months plan (part time)/Phase-I_Foundation/Python projects/micro-project-01-tvm-calculator/utils/finance_tools.py)"
     ]
    }
   ],
   "source": [
    "from utils.finance_tools import present_value \n",
    "\n",
    "#import importlib\n",
    "#import utils.finance_tools"
   ]
  },
  {
   "cell_type": "code",
   "execution_count": 3,
   "id": "058f7ed9-50d9-439c-8de2-db4e00fbfb32",
   "metadata": {},
   "outputs": [],
   "source": [
    "#importlib.reload(utils.finance_tools)"
   ]
  },
  {
   "cell_type": "code",
   "execution_count": 4,
   "id": "0d759771-7e7c-424a-9be0-e9d4330baf05",
   "metadata": {},
   "outputs": [
    {
     "ename": "NameError",
     "evalue": "name 'future_value' is not defined",
     "output_type": "error",
     "traceback": [
      "\u001b[0;31m---------------------------------------------------------------------------\u001b[0m",
      "\u001b[0;31mNameError\u001b[0m                                 Traceback (most recent call last)",
      "Cell \u001b[0;32mIn[4], line 1\u001b[0m\n\u001b[0;32m----> 1\u001b[0m future_value(\u001b[38;5;241m1\u001b[39m,\u001b[38;5;241m2\u001b[39m,\u001b[38;5;241m3\u001b[39m)\n",
      "\u001b[0;31mNameError\u001b[0m: name 'future_value' is not defined"
     ]
    }
   ],
   "source": [
    "future_value(1,2,3)"
   ]
  },
  {
   "cell_type": "code",
   "execution_count": null,
   "id": "8ea912e7-8579-44d3-9e2b-af8a00700613",
   "metadata": {},
   "outputs": [],
   "source": []
  }
 ],
 "metadata": {
  "kernelspec": {
   "display_name": "Python 3 (ipykernel)",
   "language": "python",
   "name": "python3"
  },
  "language_info": {
   "codemirror_mode": {
    "name": "ipython",
    "version": 3
   },
   "file_extension": ".py",
   "mimetype": "text/x-python",
   "name": "python",
   "nbconvert_exporter": "python",
   "pygments_lexer": "ipython3",
   "version": "3.12.7"
  }
 },
 "nbformat": 4,
 "nbformat_minor": 5
}
