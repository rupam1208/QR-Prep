{
 "cells": [
  {
   "cell_type": "code",
   "execution_count": null,
   "id": "d5828139-498f-4e04-88c5-520a2d128b77",
   "metadata": {},
   "outputs": [],
   "source": []
  }
 ],
 "metadata": {
  "kernelspec": {
   "display_name": "",
   "name": ""
  },
  "language_info": {
   "name": ""
  }
 },
 "nbformat": 4,
 "nbformat_minor": 5
}
